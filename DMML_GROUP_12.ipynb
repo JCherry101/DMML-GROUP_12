{
  "nbformat": 4,
  "nbformat_minor": 0,
  "metadata": {
    "colab": {
      "provenance": [],
      "gpuType": "T4",
      "toc_visible": true,
      "authorship_tag": "ABX9TyNRitUZDqlv9USeZQene0kQ",
      "include_colab_link": true
    },
    "kernelspec": {
      "name": "python3",
      "display_name": "Python 3"
    },
    "language_info": {
      "name": "python"
    },
    "accelerator": "GPU"
  },
  "cells": [
    {
      "cell_type": "markdown",
      "metadata": {
        "id": "view-in-github",
        "colab_type": "text"
      },
      "source": [
        "<a href=\"https://colab.research.google.com/github/JCherry101/DMML-GROUP_12/blob/main/DMML_GROUP_12.ipynb\" target=\"_parent\"><img src=\"https://colab.research.google.com/assets/colab-badge.svg\" alt=\"Open In Colab\"/></a>"
      ]
    },
    {
      "cell_type": "markdown",
      "source": [
        "# Lab 1\n"
      ],
      "metadata": {
        "id": "jLM9kzQuxD3b"
      }
    },
    {
      "cell_type": "code",
      "source": [],
      "metadata": {
        "id": "lIJylUBFyMjl"
      },
      "execution_count": null,
      "outputs": []
    },
    {
      "cell_type": "markdown",
      "source": [
        "# Lab 2\n"
      ],
      "metadata": {
        "id": "-97HqG7SyL9d"
      }
    },
    {
      "cell_type": "code",
      "source": [],
      "metadata": {
        "id": "3hbmsdtdyOJe"
      },
      "execution_count": null,
      "outputs": []
    },
    {
      "cell_type": "markdown",
      "source": [
        "# Lab 3"
      ],
      "metadata": {
        "id": "zxfzReA1yJxE"
      }
    },
    {
      "cell_type": "code",
      "source": [],
      "metadata": {
        "id": "1NtFgwQEyU7c"
      },
      "execution_count": null,
      "outputs": []
    }
  ]
}